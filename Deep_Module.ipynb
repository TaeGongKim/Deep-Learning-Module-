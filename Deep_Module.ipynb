{
  "nbformat": 4,
  "nbformat_minor": 0,
  "metadata": {
    "colab": {
      "name": "Deep Module",
      "provenance": [],
      "collapsed_sections": []
    },
    "kernelspec": {
      "name": "python3",
      "display_name": "Python 3"
    },
    "language_info": {
      "name": "python"
    }
  },
  "cells": [
    {
      "cell_type": "code",
      "metadata": {
        "id": "xV5Z4aVb5dEK"
      },
      "source": [
        "import pandas as pd\n",
        "import numpy as np\n",
        "import os\n",
        "\n",
        "import seaborn as sns\n",
        "import matplotlib.pyplot as plt\n",
        "from tabulate import tabulate"
      ],
      "execution_count": null,
      "outputs": []
    },
    {
      "cell_type": "code",
      "metadata": {
        "id": "nF9XJJG25m4E"
      },
      "source": [
        "# 간단한 data 정보 체크하기\n",
        "def simple_information(x):\n",
        "  print(f\"# data shape : {x.shape}\")\n",
        "  print('--------')\n",
        "  print(f\"# column list : {list(data.columns)}\")\n",
        "  print('--------')\n",
        "  print(f\"# data header printing\")\n",
        "  print(tabulate(x.head(10), headers = list(x)))"
      ],
      "execution_count": 1,
      "outputs": []
    },
    {
      "cell_type": "code",
      "metadata": {
        "id": "R_Yfb0gQC7cp"
      },
      "source": [
        "# 결측값 분석\n",
        "def data_na(x, is_fill = False):\n",
        "  print(\"# na information\")\n",
        "  na = []\n",
        "  na_column = []\n",
        "  for col in list(x):\n",
        "    num = train[col].isna().sum()\n",
        "    na.append([col, num])\n",
        "    if num > 0:\n",
        "      na_column.append(col)\n",
        "  print(tabulate(na, headers=[\"column\", \"#na\"]))\n",
        "  print(\"-----\")\n",
        "  print(f\"na column list : {na_column}\")\n",
        "  print(\"-----\")\n",
        "\n",
        "  # na filing\n",
        "  if is_fill:\n",
        "    for col in na_column:\n",
        "      # x[col].fillna(x[col].mean(), inplace = True)\n",
        "      x[col].fillna(0, inplace = True)\n",
        "    print(\"filling NAN complete\")\n",
        "\n",
        "  return na_column"
      ],
      "execution_count": 2,
      "outputs": []
    },
    {
      "cell_type": "code",
      "metadata": {
        "id": "vzxb3aqJDAvk"
      },
      "source": [
        "def data_information(x):\n",
        "  print(\"# data frame information\")\n",
        "  column_information = []\n",
        "  conti_list = []\n",
        "  cate_list = []\n",
        "\n",
        "  for col in list(x):\n",
        "    column_information.append([col, len((list(x[col].unique()))), x[col].dtypes])\n",
        "  print(tabulate(column_information, headers=[\"column\", \"#unique\", \"data type\"]))\n",
        "  print(\"------\")\n",
        "  print(x.select_dtypes(include=[np.number]))"
      ],
      "execution_count": null,
      "outputs": []
    }
  ]
}